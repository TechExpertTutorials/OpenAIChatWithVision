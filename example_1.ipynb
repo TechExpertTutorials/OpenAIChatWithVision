{
 "cells": [
  {
   "cell_type": "markdown",
   "metadata": {},
   "source": [
    "\n",
    "conda create -n azure-openai  \n",
    "conda activate azure-openai  \n",
    "conda install python azure-identity openai flask pandas openpyxl ipykernel -c conda-forge  \n",
    "\n",
    "Please visit https://aka.ms/azure-dev for installation instructions and then,once installed, authenticate to your Azure account using 'azd auth login'.  \n",
    "\n",
    "python example_1.py  \n",
    "\n",
    "\n",
    " "
   ]
  },
  {
   "cell_type": "markdown",
   "metadata": {},
   "source": []
  },
  {
   "cell_type": "code",
   "execution_count": 8,
   "metadata": {},
   "outputs": [],
   "source": [
    "import os\n",
    "from openai import AzureOpenAI\n",
    "from azure.identity import DefaultAzureCredential, get_bearer_token_provider\n",
    "from config_ncus import *"
   ]
  },
  {
   "cell_type": "code",
   "execution_count": 9,
   "metadata": {},
   "outputs": [],
   "source": [
    "token_provider = get_bearer_token_provider(\n",
    "    DefaultAzureCredential(),\n",
    "    \"https://cognitiveservices.azure.com/.default\")"
   ]
  },
  {
   "cell_type": "code",
   "execution_count": 10,
   "metadata": {},
   "outputs": [],
   "source": [
    "client = AzureOpenAI(\n",
    "    azure_endpoint=endpoint,\n",
    "    azure_ad_token_provider=token_provider,\n",
    "    api_version=\"2024-05-01-preview\",\n",
    ")"
   ]
  },
  {
   "cell_type": "code",
   "execution_count": 11,
   "metadata": {},
   "outputs": [],
   "source": [
    "completion = client.chat.completions.create(\n",
    "    model=deployment,\n",
    "    messages= [\n",
    "    {\n",
    "      \"role\": \"user\",\n",
    "      \"content\": \"How to Choose the Right MEMS Microphone Interface, Analog or Digital?\"\n",
    "    }],\n",
    "    max_tokens=800,\n",
    "    temperature=0.7,\n",
    "    top_p=0.95,\n",
    "    frequency_penalty=0,\n",
    "    presence_penalty=0,\n",
    "    stop=None,\n",
    "    stream=False,\n",
    "    extra_body={\n",
    "      \"data_sources\": [{\n",
    "          \"type\": \"azure_search\",\n",
    "          \"parameters\": {\n",
    "            \"endpoint\": f\"{search_endpoint}\",\n",
    "            \"index_name\": f\"{search_index}\",\n",
    "            \"semantic_configuration\": \"default\",\n",
    "            \"query_type\": \"vector_semantic_hybrid\",\n",
    "            \"fields_mapping\": {},\n",
    "            \"in_scope\": True,\n",
    "            \"role_information\": \"You are an AI assistant that helps people find information.\",\n",
    "            \"filter\": None,\n",
    "            \"strictness\": 3,\n",
    "            # \"top_n_documents\": 5,\n",
    "            \"top_n_documents\": 2,\n",
    "            \"authentication\": {\n",
    "              \"type\": \"api_key\",\n",
    "              \"key\": f\"{search_key}\"\n",
    "            },\n",
    "            \"embedding_dependency\": {\n",
    "              \"type\": \"deployment_name\",\n",
    "              \"deployment_name\": f\"{vector_deployment}\"\n",
    "            }\n",
    "          }\n",
    "        }]\n",
    "    }\n",
    ")"
   ]
  },
  {
   "cell_type": "code",
   "execution_count": null,
   "metadata": {},
   "outputs": [],
   "source": [
    "details = open('details1.json', 'w')\n",
    "details.write(completion.to_json())\n",
    "details.close()\n",
    "# print(completion.to_json())\n",
    "print(f\"Answer: {completion.choices[0].message.content}\")\n",
    "print(f\"Citation: {completion.choices[0].message.context['citations'][0]['title']}\")\n",
    "print(f\"Tokens Used: {completion.usage.total_tokens}\")"
   ]
  },
  {
   "cell_type": "code",
   "execution_count": null,
   "metadata": {},
   "outputs": [],
   "source": []
  }
 ],
 "metadata": {
  "kernelspec": {
   "display_name": "azure-openai",
   "language": "python",
   "name": "python3"
  },
  "language_info": {
   "codemirror_mode": {
    "name": "ipython",
    "version": 3
   },
   "file_extension": ".py",
   "mimetype": "text/x-python",
   "name": "python",
   "nbconvert_exporter": "python",
   "pygments_lexer": "ipython3",
   "version": "3.12.5"
  }
 },
 "nbformat": 4,
 "nbformat_minor": 2
}
